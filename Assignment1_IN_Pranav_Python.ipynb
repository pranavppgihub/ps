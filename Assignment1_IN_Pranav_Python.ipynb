{
 "cells": [
  {
   "cell_type": "code",
   "execution_count": null,
   "metadata": {},
   "outputs": [],
   "source": [
    "#q.1 which one is the are the values and which are the expression?\n",
    "\n",
    "#'hello', -87.8,  6  -> are value\n",
    "#  -, / , +          -> are expression\n"
   ]
  },
  {
   "cell_type": "code",
   "execution_count": null,
   "metadata": {},
   "outputs": [],
   "source": [
    "#q.2 difference between string are variable ? \n",
    "# string are the data type \n",
    "#variables has data types like int, string, etc.\n"
   ]
  },
  {
   "cell_type": "code",
   "execution_count": null,
   "metadata": {},
   "outputs": [],
   "source": [
    "#q.3 : what are the data types in python ?  the data types in python are   str ( x = \" hello\")\n",
    "#int ( x = 20)\n",
    "#float ( x = 20.5)\n",
    "#complex ( x  = 1j)\n",
    "\n"
   ]
  },
  {
   "cell_type": "code",
   "execution_count": null,
   "metadata": {},
   "outputs": [],
   "source": [
    "#Q.4 : the expression are made up of operators and variables ( x  = y + j)"
   ]
  },
  {
   "cell_type": "code",
   "execution_count": null,
   "metadata": {},
   "outputs": [],
   "source": [
    "#Q.5 :  spam = 10  : this assingment statements, like spam =10,  what is the diffrence between\n",
    "#an expression and stement ?   \n",
    "#the spam = 10 is statement \n",
    "#while = is the assignment \n"
   ]
  },
  {
   "cell_type": "code",
   "execution_count": null,
   "metadata": {},
   "outputs": [],
   "source": [
    "#q.6 : answer bacon 's value will be 23\n",
    "#q.7 : answer : 'spamspamspam'\n",
    "#q.8 : answer : eggs is valid variable name because it contains all letter \n",
    "100 is invalid variable name cause all its all numeric. the variable name must have atleast \n",
    "one letter.\n",
    "eg. c100 is valid variable name. \n"
   ]
  },
  {
   "cell_type": "code",
   "execution_count": 2,
   "metadata": {},
   "outputs": [
    {
     "ename": "SyntaxError",
     "evalue": "invalid syntax (<ipython-input-2-52afb6c4bfb8>, line 1)",
     "output_type": "error",
     "traceback": [
      "\u001b[1;36m  File \u001b[1;32m\"<ipython-input-2-52afb6c4bfb8>\"\u001b[1;36m, line \u001b[1;32m1\u001b[0m\n\u001b[1;33m    q.9 type casting in int, float and str.\u001b[0m\n\u001b[1;37m     ^\u001b[0m\n\u001b[1;31mSyntaxError\u001b[0m\u001b[1;31m:\u001b[0m invalid syntax\n"
     ]
    }
   ],
   "source": [
    "#q.9 type casting in int, float and str.\n",
    "\n",
    "\n",
    "val1 = int('10') # string value\n",
    "val2 = float('10.6') #returns float values\n",
    "val3 = str(10.8)# returns string \n",
    "print( \"integer value = \", val1)\n",
    "print( \"float value = \", val2)\n",
    "print( \" string value = \", val3)\n",
    "\n",
    "#output : \n",
    "    \n",
    "#integer value =  10\n",
    "#float value =  10.6\n",
    "#string value =  10.8\n"
   ]
  },
  {
   "cell_type": "code",
   "execution_count": null,
   "metadata": {},
   "outputs": [],
   "source": [
    "q.10 : print('i have eaten'+99+'burritos') gives error cause u can concatinate only string to string only. u can't concatinate string plus int"
   ]
  }
 ],
 "metadata": {
  "kernelspec": {
   "display_name": "Python 3",
   "language": "python",
   "name": "python3"
  },
  "language_info": {
   "codemirror_mode": {
    "name": "ipython",
    "version": 3
   },
   "file_extension": ".py",
   "mimetype": "text/x-python",
   "name": "python",
   "nbconvert_exporter": "python",
   "pygments_lexer": "ipython3",
   "version": "3.8.5"
  }
 },
 "nbformat": 4,
 "nbformat_minor": 4
}
